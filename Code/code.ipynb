{
 "cells": [
  {
   "cell_type": "markdown",
   "metadata": {},
   "source": [
    "## Import library yang dibutuhkan"
   ]
  },
  {
   "cell_type": "code",
   "execution_count": 47,
   "metadata": {},
   "outputs": [],
   "source": [
    "import pandas as pd\n"
   ]
  },
  {
   "cell_type": "markdown",
   "metadata": {},
   "source": [
    "# EKSPLORASI DATA"
   ]
  },
  {
   "cell_type": "markdown",
   "metadata": {},
   "source": [
    "## Membaca CSV file"
   ]
  },
  {
   "cell_type": "code",
   "execution_count": 48,
   "metadata": {},
   "outputs": [
    {
     "name": "stderr",
     "output_type": "stream",
     "text": [
      "C:\\Users\\Fikri\\AppData\\Local\\Temp\\ipykernel_20992\\2004395355.py:2: DtypeWarning: Columns (5,7) have mixed types. Specify dtype option on import or set low_memory=False.\n",
      "  df = pd.read_csv(data_path+'/daily_rent_detail.csv')\n"
     ]
    }
   ],
   "source": [
    "data_path = 'C:/Users/Fikri/Documents/Data_Kpp'\n",
    "df = pd.read_csv(data_path+'/daily_rent_detail.csv')"
   ]
  },
  {
   "cell_type": "markdown",
   "metadata": {},
   "source": [
    "## List baris dan kolom yang berada di dalam dataset "
   ]
  },
  {
   "cell_type": "code",
   "execution_count": 49,
   "metadata": {},
   "outputs": [
    {
     "data": {
      "text/html": [
       "<div>\n",
       "<style scoped>\n",
       "    .dataframe tbody tr th:only-of-type {\n",
       "        vertical-align: middle;\n",
       "    }\n",
       "\n",
       "    .dataframe tbody tr th {\n",
       "        vertical-align: top;\n",
       "    }\n",
       "\n",
       "    .dataframe thead th {\n",
       "        text-align: right;\n",
       "    }\n",
       "</style>\n",
       "<table border=\"1\" class=\"dataframe\">\n",
       "  <thead>\n",
       "    <tr style=\"text-align: right;\">\n",
       "      <th></th>\n",
       "      <th>ride_id</th>\n",
       "      <th>rideable_type</th>\n",
       "      <th>started_at</th>\n",
       "      <th>ended_at</th>\n",
       "      <th>start_station_name</th>\n",
       "      <th>start_station_id</th>\n",
       "      <th>end_station_name</th>\n",
       "      <th>end_station_id</th>\n",
       "      <th>start_lat</th>\n",
       "      <th>start_lng</th>\n",
       "      <th>end_lat</th>\n",
       "      <th>end_lng</th>\n",
       "      <th>member_casual</th>\n",
       "    </tr>\n",
       "  </thead>\n",
       "  <tbody>\n",
       "    <tr>\n",
       "      <th>0</th>\n",
       "      <td>946D42AD89539210</td>\n",
       "      <td>docked_bike</td>\n",
       "      <td>2020-05-30 17:25:29</td>\n",
       "      <td>2020-05-31 18:25:22</td>\n",
       "      <td>Anacostia Library</td>\n",
       "      <td>31804</td>\n",
       "      <td>11th &amp; H St NE</td>\n",
       "      <td>31614.0</td>\n",
       "      <td>38.865784</td>\n",
       "      <td>-76.978400</td>\n",
       "      <td>38.899983</td>\n",
       "      <td>-76.991383</td>\n",
       "      <td>casual</td>\n",
       "    </tr>\n",
       "    <tr>\n",
       "      <th>1</th>\n",
       "      <td>CC46FAAB662B8613</td>\n",
       "      <td>docked_bike</td>\n",
       "      <td>2020-05-09 14:42:04</td>\n",
       "      <td>2020-05-09 15:06:33</td>\n",
       "      <td>10th &amp; E St NW</td>\n",
       "      <td>31256</td>\n",
       "      <td>21st St &amp; Constitution Ave NW</td>\n",
       "      <td>31261.0</td>\n",
       "      <td>38.895914</td>\n",
       "      <td>-77.026064</td>\n",
       "      <td>38.892459</td>\n",
       "      <td>-77.046567</td>\n",
       "      <td>member</td>\n",
       "    </tr>\n",
       "    <tr>\n",
       "      <th>2</th>\n",
       "      <td>72F00B2FB833D6ED</td>\n",
       "      <td>docked_bike</td>\n",
       "      <td>2020-05-24 17:27:19</td>\n",
       "      <td>2020-05-24 17:43:51</td>\n",
       "      <td>Connecticut Ave &amp; Newark St NW / Cleveland Park</td>\n",
       "      <td>31305</td>\n",
       "      <td>12th &amp; U St NW</td>\n",
       "      <td>31268.0</td>\n",
       "      <td>38.934267</td>\n",
       "      <td>-77.057979</td>\n",
       "      <td>38.916787</td>\n",
       "      <td>-77.028139</td>\n",
       "      <td>member</td>\n",
       "    </tr>\n",
       "    <tr>\n",
       "      <th>3</th>\n",
       "      <td>4DFBE6AED989DF35</td>\n",
       "      <td>docked_bike</td>\n",
       "      <td>2020-05-27 15:29:52</td>\n",
       "      <td>2020-05-27 15:47:13</td>\n",
       "      <td>Connecticut Ave &amp; Newark St NW / Cleveland Park</td>\n",
       "      <td>31305</td>\n",
       "      <td>14th &amp; Belmont St NW</td>\n",
       "      <td>31119.0</td>\n",
       "      <td>38.934267</td>\n",
       "      <td>-77.057979</td>\n",
       "      <td>38.921074</td>\n",
       "      <td>-77.031887</td>\n",
       "      <td>casual</td>\n",
       "    </tr>\n",
       "    <tr>\n",
       "      <th>4</th>\n",
       "      <td>1AAFE6B4331AB9DF</td>\n",
       "      <td>docked_bike</td>\n",
       "      <td>2020-05-31 14:06:03</td>\n",
       "      <td>2020-05-31 14:30:30</td>\n",
       "      <td>Georgia Ave &amp; Morton St NW</td>\n",
       "      <td>31419</td>\n",
       "      <td>17th &amp; K St NW</td>\n",
       "      <td>31213.0</td>\n",
       "      <td>38.932128</td>\n",
       "      <td>-77.023500</td>\n",
       "      <td>38.902760</td>\n",
       "      <td>-77.038630</td>\n",
       "      <td>casual</td>\n",
       "    </tr>\n",
       "    <tr>\n",
       "      <th>...</th>\n",
       "      <td>...</td>\n",
       "      <td>...</td>\n",
       "      <td>...</td>\n",
       "      <td>...</td>\n",
       "      <td>...</td>\n",
       "      <td>...</td>\n",
       "      <td>...</td>\n",
       "      <td>...</td>\n",
       "      <td>...</td>\n",
       "      <td>...</td>\n",
       "      <td>...</td>\n",
       "      <td>...</td>\n",
       "      <td>...</td>\n",
       "    </tr>\n",
       "    <tr>\n",
       "      <th>16086667</th>\n",
       "      <td>117C27DBDD138B72</td>\n",
       "      <td>electric_bike</td>\n",
       "      <td>2024-08-01 08:10:22.293</td>\n",
       "      <td>2024-08-01 08:10:37.641</td>\n",
       "      <td>NaN</td>\n",
       "      <td>NaN</td>\n",
       "      <td>NaN</td>\n",
       "      <td>NaN</td>\n",
       "      <td>38.890000</td>\n",
       "      <td>-77.000000</td>\n",
       "      <td>38.890000</td>\n",
       "      <td>-77.000000</td>\n",
       "      <td>member</td>\n",
       "    </tr>\n",
       "    <tr>\n",
       "      <th>16086668</th>\n",
       "      <td>4774F4D630258482</td>\n",
       "      <td>electric_bike</td>\n",
       "      <td>2024-08-08 10:05:21.938</td>\n",
       "      <td>2024-08-08 10:21:46.654</td>\n",
       "      <td>NaN</td>\n",
       "      <td>NaN</td>\n",
       "      <td>NaN</td>\n",
       "      <td>NaN</td>\n",
       "      <td>38.900000</td>\n",
       "      <td>-77.000000</td>\n",
       "      <td>38.870000</td>\n",
       "      <td>-76.950000</td>\n",
       "      <td>member</td>\n",
       "    </tr>\n",
       "    <tr>\n",
       "      <th>16086669</th>\n",
       "      <td>D75836E25E77B5EC</td>\n",
       "      <td>electric_bike</td>\n",
       "      <td>2024-08-03 16:29:32.252</td>\n",
       "      <td>2024-08-03 16:35:43.179</td>\n",
       "      <td>NaN</td>\n",
       "      <td>NaN</td>\n",
       "      <td>NaN</td>\n",
       "      <td>NaN</td>\n",
       "      <td>38.920000</td>\n",
       "      <td>-76.990000</td>\n",
       "      <td>38.920000</td>\n",
       "      <td>-77.000000</td>\n",
       "      <td>member</td>\n",
       "    </tr>\n",
       "    <tr>\n",
       "      <th>16086670</th>\n",
       "      <td>3B888603D18116DC</td>\n",
       "      <td>electric_bike</td>\n",
       "      <td>2024-08-03 02:49:45.661</td>\n",
       "      <td>2024-08-03 02:59:56.877</td>\n",
       "      <td>NaN</td>\n",
       "      <td>NaN</td>\n",
       "      <td>NaN</td>\n",
       "      <td>NaN</td>\n",
       "      <td>38.920000</td>\n",
       "      <td>-77.020000</td>\n",
       "      <td>38.920000</td>\n",
       "      <td>-77.030000</td>\n",
       "      <td>member</td>\n",
       "    </tr>\n",
       "    <tr>\n",
       "      <th>16086671</th>\n",
       "      <td>3B201BA37CE6ED10</td>\n",
       "      <td>electric_bike</td>\n",
       "      <td>2024-08-15 07:51:42.628</td>\n",
       "      <td>2024-08-15 07:55:50.645</td>\n",
       "      <td>NaN</td>\n",
       "      <td>NaN</td>\n",
       "      <td>NaN</td>\n",
       "      <td>NaN</td>\n",
       "      <td>38.940000</td>\n",
       "      <td>-77.030000</td>\n",
       "      <td>38.930000</td>\n",
       "      <td>-77.030000</td>\n",
       "      <td>member</td>\n",
       "    </tr>\n",
       "  </tbody>\n",
       "</table>\n",
       "<p>16086672 rows × 13 columns</p>\n",
       "</div>"
      ],
      "text/plain": [
       "                   ride_id  rideable_type               started_at  \\\n",
       "0         946D42AD89539210    docked_bike      2020-05-30 17:25:29   \n",
       "1         CC46FAAB662B8613    docked_bike      2020-05-09 14:42:04   \n",
       "2         72F00B2FB833D6ED    docked_bike      2020-05-24 17:27:19   \n",
       "3         4DFBE6AED989DF35    docked_bike      2020-05-27 15:29:52   \n",
       "4         1AAFE6B4331AB9DF    docked_bike      2020-05-31 14:06:03   \n",
       "...                    ...            ...                      ...   \n",
       "16086667  117C27DBDD138B72  electric_bike  2024-08-01 08:10:22.293   \n",
       "16086668  4774F4D630258482  electric_bike  2024-08-08 10:05:21.938   \n",
       "16086669  D75836E25E77B5EC  electric_bike  2024-08-03 16:29:32.252   \n",
       "16086670  3B888603D18116DC  electric_bike  2024-08-03 02:49:45.661   \n",
       "16086671  3B201BA37CE6ED10  electric_bike  2024-08-15 07:51:42.628   \n",
       "\n",
       "                         ended_at  \\\n",
       "0             2020-05-31 18:25:22   \n",
       "1             2020-05-09 15:06:33   \n",
       "2             2020-05-24 17:43:51   \n",
       "3             2020-05-27 15:47:13   \n",
       "4             2020-05-31 14:30:30   \n",
       "...                           ...   \n",
       "16086667  2024-08-01 08:10:37.641   \n",
       "16086668  2024-08-08 10:21:46.654   \n",
       "16086669  2024-08-03 16:35:43.179   \n",
       "16086670  2024-08-03 02:59:56.877   \n",
       "16086671  2024-08-15 07:55:50.645   \n",
       "\n",
       "                                       start_station_name start_station_id  \\\n",
       "0                                       Anacostia Library            31804   \n",
       "1                                          10th & E St NW            31256   \n",
       "2         Connecticut Ave & Newark St NW / Cleveland Park            31305   \n",
       "3         Connecticut Ave & Newark St NW / Cleveland Park            31305   \n",
       "4                              Georgia Ave & Morton St NW            31419   \n",
       "...                                                   ...              ...   \n",
       "16086667                                              NaN              NaN   \n",
       "16086668                                              NaN              NaN   \n",
       "16086669                                              NaN              NaN   \n",
       "16086670                                              NaN              NaN   \n",
       "16086671                                              NaN              NaN   \n",
       "\n",
       "                       end_station_name end_station_id  start_lat  start_lng  \\\n",
       "0                        11th & H St NE        31614.0  38.865784 -76.978400   \n",
       "1         21st St & Constitution Ave NW        31261.0  38.895914 -77.026064   \n",
       "2                        12th & U St NW        31268.0  38.934267 -77.057979   \n",
       "3                  14th & Belmont St NW        31119.0  38.934267 -77.057979   \n",
       "4                        17th & K St NW        31213.0  38.932128 -77.023500   \n",
       "...                                 ...            ...        ...        ...   \n",
       "16086667                            NaN            NaN  38.890000 -77.000000   \n",
       "16086668                            NaN            NaN  38.900000 -77.000000   \n",
       "16086669                            NaN            NaN  38.920000 -76.990000   \n",
       "16086670                            NaN            NaN  38.920000 -77.020000   \n",
       "16086671                            NaN            NaN  38.940000 -77.030000   \n",
       "\n",
       "            end_lat    end_lng member_casual  \n",
       "0         38.899983 -76.991383        casual  \n",
       "1         38.892459 -77.046567        member  \n",
       "2         38.916787 -77.028139        member  \n",
       "3         38.921074 -77.031887        casual  \n",
       "4         38.902760 -77.038630        casual  \n",
       "...             ...        ...           ...  \n",
       "16086667  38.890000 -77.000000        member  \n",
       "16086668  38.870000 -76.950000        member  \n",
       "16086669  38.920000 -77.000000        member  \n",
       "16086670  38.920000 -77.030000        member  \n",
       "16086671  38.930000 -77.030000        member  \n",
       "\n",
       "[16086672 rows x 13 columns]"
      ]
     },
     "execution_count": 49,
     "metadata": {},
     "output_type": "execute_result"
    }
   ],
   "source": [
    "df"
   ]
  },
  {
   "cell_type": "markdown",
   "metadata": {},
   "source": [
    "Ditunjukkan bahwa terdapat : \n",
    "- **16086672** baris\n",
    "- **13** kolom"
   ]
  },
  {
   "cell_type": "markdown",
   "metadata": {},
   "source": [
    "## Informasi general mengenai dataset"
   ]
  },
  {
   "cell_type": "code",
   "execution_count": 50,
   "metadata": {},
   "outputs": [
    {
     "name": "stdout",
     "output_type": "stream",
     "text": [
      "<class 'pandas.core.frame.DataFrame'>\n",
      "RangeIndex: 16086672 entries, 0 to 16086671\n",
      "Data columns (total 13 columns):\n",
      " #   Column              Dtype  \n",
      "---  ------              -----  \n",
      " 0   ride_id             object \n",
      " 1   rideable_type       object \n",
      " 2   started_at          object \n",
      " 3   ended_at            object \n",
      " 4   start_station_name  object \n",
      " 5   start_station_id    object \n",
      " 6   end_station_name    object \n",
      " 7   end_station_id      object \n",
      " 8   start_lat           float64\n",
      " 9   start_lng           float64\n",
      " 10  end_lat             float64\n",
      " 11  end_lng             float64\n",
      " 12  member_casual       object \n",
      "dtypes: float64(4), object(9)\n",
      "memory usage: 1.6+ GB\n"
     ]
    },
    {
     "data": {
      "text/html": [
       "<div>\n",
       "<style scoped>\n",
       "    .dataframe tbody tr th:only-of-type {\n",
       "        vertical-align: middle;\n",
       "    }\n",
       "\n",
       "    .dataframe tbody tr th {\n",
       "        vertical-align: top;\n",
       "    }\n",
       "\n",
       "    .dataframe thead th {\n",
       "        text-align: right;\n",
       "    }\n",
       "</style>\n",
       "<table border=\"1\" class=\"dataframe\">\n",
       "  <thead>\n",
       "    <tr style=\"text-align: right;\">\n",
       "      <th></th>\n",
       "      <th>start_lat</th>\n",
       "      <th>start_lng</th>\n",
       "      <th>end_lat</th>\n",
       "      <th>end_lng</th>\n",
       "    </tr>\n",
       "  </thead>\n",
       "  <tbody>\n",
       "    <tr>\n",
       "      <th>count</th>\n",
       "      <td>1.608666e+07</td>\n",
       "      <td>1.608666e+07</td>\n",
       "      <td>1.606074e+07</td>\n",
       "      <td>1.606074e+07</td>\n",
       "    </tr>\n",
       "    <tr>\n",
       "      <th>mean</th>\n",
       "      <td>3.890389e+01</td>\n",
       "      <td>-7.703200e+01</td>\n",
       "      <td>3.890290e+01</td>\n",
       "      <td>-7.703162e+01</td>\n",
       "    </tr>\n",
       "    <tr>\n",
       "      <th>std</th>\n",
       "      <td>2.758673e-02</td>\n",
       "      <td>3.436006e-02</td>\n",
       "      <td>4.704474e-02</td>\n",
       "      <td>8.250517e-02</td>\n",
       "    </tr>\n",
       "    <tr>\n",
       "      <th>min</th>\n",
       "      <td>3.873000e+01</td>\n",
       "      <td>-7.740000e+01</td>\n",
       "      <td>0.000000e+00</td>\n",
       "      <td>-7.810000e+01</td>\n",
       "    </tr>\n",
       "    <tr>\n",
       "      <th>25%</th>\n",
       "      <td>3.889054e+01</td>\n",
       "      <td>-7.704463e+01</td>\n",
       "      <td>3.889050e+01</td>\n",
       "      <td>-7.704468e+01</td>\n",
       "    </tr>\n",
       "    <tr>\n",
       "      <th>50%</th>\n",
       "      <td>3.890304e+01</td>\n",
       "      <td>-7.703150e+01</td>\n",
       "      <td>3.890257e+01</td>\n",
       "      <td>-7.703000e+01</td>\n",
       "    </tr>\n",
       "    <tr>\n",
       "      <th>75%</th>\n",
       "      <td>3.891554e+01</td>\n",
       "      <td>-7.701350e+01</td>\n",
       "      <td>3.891305e+01</td>\n",
       "      <td>-7.701237e+01</td>\n",
       "    </tr>\n",
       "    <tr>\n",
       "      <th>max</th>\n",
       "      <td>3.914000e+01</td>\n",
       "      <td>-7.678414e+01</td>\n",
       "      <td>4.307000e+01</td>\n",
       "      <td>0.000000e+00</td>\n",
       "    </tr>\n",
       "  </tbody>\n",
       "</table>\n",
       "</div>"
      ],
      "text/plain": [
       "          start_lat     start_lng       end_lat       end_lng\n",
       "count  1.608666e+07  1.608666e+07  1.606074e+07  1.606074e+07\n",
       "mean   3.890389e+01 -7.703200e+01  3.890290e+01 -7.703162e+01\n",
       "std    2.758673e-02  3.436006e-02  4.704474e-02  8.250517e-02\n",
       "min    3.873000e+01 -7.740000e+01  0.000000e+00 -7.810000e+01\n",
       "25%    3.889054e+01 -7.704463e+01  3.889050e+01 -7.704468e+01\n",
       "50%    3.890304e+01 -7.703150e+01  3.890257e+01 -7.703000e+01\n",
       "75%    3.891554e+01 -7.701350e+01  3.891305e+01 -7.701237e+01\n",
       "max    3.914000e+01 -7.678414e+01  4.307000e+01  0.000000e+00"
      ]
     },
     "execution_count": 50,
     "metadata": {},
     "output_type": "execute_result"
    }
   ],
   "source": [
    "df.info()\n",
    "df.describe()"
   ]
  },
  {
   "cell_type": "markdown",
   "metadata": {},
   "source": [
    "**Bedasarkan observasi output diatas, didapatkan bahwa :**\n",
    "terdapat 13 kolom yang berbeda, disertai dengan 2 tipe data yang berbeda dengan rincian sebagai berikut :\n",
    "- 9 kolom (ride_id, rideable_type, started_at, ended_at, start_station_name, start_station_id, end_station_name, end_station_id, member_casual) dengan tipe data = **object**\n",
    "- 4 kolom (start_lat, start_lng, end_lat, end_lng) dengan tipe data = **float64**"
   ]
  },
  {
   "cell_type": "markdown",
   "metadata": {},
   "source": [
    "# DATA CLEANING"
   ]
  },
  {
   "cell_type": "code",
   "execution_count": 51,
   "metadata": {},
   "outputs": [
    {
     "data": {
      "text/plain": [
       "ride_id                     0\n",
       "rideable_type               0\n",
       "started_at                  0\n",
       "ended_at                    0\n",
       "start_station_name    1450150\n",
       "start_station_id      1450150\n",
       "end_station_name      1558268\n",
       "end_station_id        1558917\n",
       "start_lat                  10\n",
       "start_lng                  10\n",
       "end_lat                 25929\n",
       "end_lng                 25929\n",
       "member_casual               0\n",
       "dtype: int64"
      ]
     },
     "execution_count": 51,
     "metadata": {},
     "output_type": "execute_result"
    }
   ],
   "source": [
    "df.isnull().sum()"
   ]
  },
  {
   "cell_type": "markdown",
   "metadata": {},
   "source": [
    "setelah menjalankan *syntax* diatas, didapatkan bahwa terdapat kolom dengan nilai yang kosong. Untuk menghindari adanya kolom dengan nilai yang kosong pada *dataset*, akan dilakukan pengisian nilai '0' sebagai pengganti nilai kolom yang kosong dengan menggunakan *syntax* di bawah ini :"
   ]
  },
  {
   "cell_type": "code",
   "execution_count": 52,
   "metadata": {},
   "outputs": [],
   "source": [
    "df.fillna(value=0, inplace=True)"
   ]
  },
  {
   "cell_type": "code",
   "execution_count": 53,
   "metadata": {},
   "outputs": [
    {
     "data": {
      "text/plain": [
       "ride_id               0\n",
       "rideable_type         0\n",
       "started_at            0\n",
       "ended_at              0\n",
       "start_station_name    0\n",
       "start_station_id      0\n",
       "end_station_name      0\n",
       "end_station_id        0\n",
       "start_lat             0\n",
       "start_lng             0\n",
       "end_lat               0\n",
       "end_lng               0\n",
       "member_casual         0\n",
       "dtype: int64"
      ]
     },
     "execution_count": 53,
     "metadata": {},
     "output_type": "execute_result"
    }
   ],
   "source": [
    "# re-check\n",
    "df.isnull().sum()"
   ]
  },
  {
   "cell_type": "markdown",
   "metadata": {},
   "source": [
    "didapat bahwa sudah tidak ada nilai kosong pada *dataset*, yang berarti proses berhasil"
   ]
  },
  {
   "cell_type": "markdown",
   "metadata": {},
   "source": [
    "## Menghapus Redundansi"
   ]
  },
  {
   "cell_type": "code",
   "execution_count": 57,
   "metadata": {},
   "outputs": [
    {
     "ename": "AttributeError",
     "evalue": "'function' object has no attribute 'drop'",
     "output_type": "error",
     "traceback": [
      "\u001b[1;31m---------------------------------------------------------------------------\u001b[0m",
      "\u001b[1;31mAttributeError\u001b[0m                            Traceback (most recent call last)",
      "Cell \u001b[1;32mIn[57], line 2\u001b[0m\n\u001b[0;32m      1\u001b[0m df_new \u001b[38;5;241m=\u001b[39m df\u001b[38;5;241m.\u001b[39mduplicated\n\u001b[1;32m----> 2\u001b[0m \u001b[43mdf_new\u001b[49m\u001b[38;5;241;43m.\u001b[39;49m\u001b[43mdrop\u001b[49m(\u001b[38;5;124m'\u001b[39m\u001b[38;5;124mstart_station_name\u001b[39m\u001b[38;5;124m'\u001b[39m,axis\u001b[38;5;241m=\u001b[39m\u001b[38;5;241m1\u001b[39m,inplace\u001b[38;5;241m=\u001b[39m\u001b[38;5;28;01mTrue\u001b[39;00m)\n",
      "\u001b[1;31mAttributeError\u001b[0m: 'function' object has no attribute 'drop'"
     ]
    }
   ],
   "source": [
    "df_new = df.duplicated\n",
    "df_new.drop('start_station_name',axis=1,inplace=True)"
   ]
  },
  {
   "cell_type": "code",
   "execution_count": null,
   "metadata": {},
   "outputs": [],
   "source": []
  }
 ],
 "metadata": {
  "kernelspec": {
   "display_name": "datsci_boom",
   "language": "python",
   "name": "python3"
  },
  "language_info": {
   "codemirror_mode": {
    "name": "ipython",
    "version": 3
   },
   "file_extension": ".py",
   "mimetype": "text/x-python",
   "name": "python",
   "nbconvert_exporter": "python",
   "pygments_lexer": "ipython3",
   "version": "3.12.7"
  }
 },
 "nbformat": 4,
 "nbformat_minor": 2
}
