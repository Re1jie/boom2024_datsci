{
 "cells": [
  {
   "cell_type": "markdown",
   "id": "f28904df-e361-4721-995d-5cb80ff2322a",
   "metadata": {},
   "source": [
    "**Metadata :**\n",
    "\n",
    "Untuk metadata dalam dataset ini, dipersilahkan untuk menuju link berikut :<br>\n",
    "https://www.kaggle.com/datasets/taweilo/capital-bikeshare-dataset-202005202408 <br>\n",
    "\n",
    "**Hal-hal yang harus di perhatikan**\n",
    "- Lakukan eksplorasi data\n",
    "- Pastikan bahwa data sudah bersih dan siap untuk dilakukan analisis\n",
    "- Buatlah dashboard dengan menggunakan dash terkait data yang telah di olah\n",
    "- Ceritakan didalam jupyter notebook terkait deskripsi dari penemuan yang telah didapatkan\n",
    "- Tulis dengan rapi dan terstruktur terkait pengerjaan anda agar mudah dipahami oleh orang lain"
   ]
  },
  {
   "cell_type": "code",
   "execution_count": null,
   "id": "4b42405c-0437-4759-945a-8da9e6072e01",
   "metadata": {},
   "outputs": [],
   "source": []
  }
 ],
 "metadata": {
  "kernelspec": {
   "display_name": "Python 3 (ipykernel)",
   "language": "python",
   "name": "python3"
  },
  "language_info": {
   "codemirror_mode": {
    "name": "ipython",
    "version": 3
   },
   "file_extension": ".py",
   "mimetype": "text/x-python",
   "name": "python",
   "nbconvert_exporter": "python",
   "pygments_lexer": "ipython3",
   "version": "3.12.7"
  }
 },
 "nbformat": 4,
 "nbformat_minor": 5
}
